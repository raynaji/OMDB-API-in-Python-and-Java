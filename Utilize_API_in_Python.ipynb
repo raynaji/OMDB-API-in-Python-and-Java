{
 "cells": [
  {
   "cell_type": "markdown",
   "metadata": {},
   "source": [
    "# Utilize API in Python"
   ]
  },
  {
   "cell_type": "markdown",
   "metadata": {},
   "source": [
    "In this project, I began with a small API exercise using Number API.  \n",
    "\n",
    "The second part is getting information of movies from OMBD through its API. Then created a database on the local to store all these information."
   ]
  },
  {
   "cell_type": "code",
   "execution_count": 1,
   "metadata": {},
   "outputs": [],
   "source": [
    "import json\n",
    "import requests\n",
    "#!pip install pymysql\n",
    "import pymysql"
   ]
  },
  {
   "cell_type": "markdown",
   "metadata": {},
   "source": [
    "## Number API"
   ]
  },
  {
   "cell_type": "markdown",
   "metadata": {},
   "source": [
    "In this part, I wrote a small program that accesses all trivia results for the numbers from 0 (zero) to 99 using batch requests only (One single query for all the numbers). "
   ]
  },
  {
   "cell_type": "markdown",
   "metadata": {},
   "source": [
    "**Tasks to complete:**  \n",
    "* Go to http://numbersapi.com and familiarize yourself with the API.  \n",
    "* Print the output result to the screen in the format of [3-digit number with leading zeros] - [TRIVIA] (One number per each line). "
   ]
  },
  {
   "cell_type": "markdown",
   "metadata": {},
   "source": [
    "**json.loads**:  \n",
    "The response.text from a API page is not in HTML anymore, but in JSON. So we use json module.  \n",
    "\n",
    "The json module offers a json object with **loads** and **dumps** method that convert from [JSON in text strings] to [associative arrays], and from [associative arrays] to [JSON in text strings]. "
   ]
  },
  {
   "cell_type": "code",
   "execution_count": 2,
   "metadata": {},
   "outputs": [
    {
     "data": {
      "text/plain": [
       "<Response [200]>"
      ]
     },
     "execution_count": 2,
     "metadata": {},
     "output_type": "execute_result"
    }
   ],
   "source": [
    "# use batch requests to access all trivia results from 0 - 99.\n",
    "url = \"http://numbersapi.com/0..99\"\n",
    "agent = {\"User-Agent\":'Mozilla/5.0'}\n",
    "response = requests.get(url, headers = agent)\n",
    "response"
   ]
  },
  {
   "cell_type": "code",
   "execution_count": 3,
   "metadata": {},
   "outputs": [],
   "source": [
    "results = json.loads(response.text)"
   ]
  },
  {
   "cell_type": "code",
   "execution_count": 4,
   "metadata": {},
   "outputs": [
    {
     "name": "stdout",
     "output_type": "stream",
     "text": [
      "000 - 0 is the atomic number of the theoretical element tetraneutron.\n",
      "001 - 1 is the loneliest number.\n",
      "002 - 2 is the first magic number in physics.\n",
      "003 - 3 is the number of words or phrases in a Tripartite motto.\n",
      "004 - 4 is the number of legs most furniture has.\n",
      "005 - 5 is the number of babies born in a quintuplet.\n",
      "006 - 6 is the number of points on a Star of David.\n",
      "007 - 7 is the number of suicides mentioned in the Bible.\n",
      "008 - 8 is the number of principles of Yong in Chinese calligraphy.\n",
      "009 - 9 is the number of innings in a regulation, non-tied game of baseball.\n",
      "010 - 10 is the number of fingers on a pair of human hands.\n",
      "011 - 11 is the number of pounds one gallon of pure maple syrup weighs.\n",
      "012 - 12 is the number of people who have walked on Earth's moon.\n",
      "013 - 13 is the number of colonies that formed the United States.\n",
      "014 - 14 is the number of days in a fortnight.\n",
      "015 - 15 is the number of balls in the eight ball variant of billiards.\n",
      "016 - 16 is the number of personality types in the Myers-Briggs classification system.\n",
      "017 - 17 is the minimum driving age for a car or van in the United Kingdom.\n",
      "018 - 18 is the number of holes in a stipulated round of golf.\n",
      "019 - 19 is the number of years in 235 lunations.\n",
      "020 - 20 is the number of ounces in Venti size coffees at Starbucks coffee shops.\n",
      "021 - 21 is the number of demands which were sent to the Chinese government by the Japanese government of Okuma Shigenobu in 1915.\n",
      "022 - 22 is the number of players on the field in a football (soccer) match.\n",
      "023 - 23 is the number of enigma that plays a prominent role in the plot of The Illuminatus! Trilogy by Robert Shea and Robert Anton Wilson.\n",
      "024 - 24 is the number of hours in a day.\n",
      "025 - 25 is the number of cents in a quarter.\n",
      "026 - 26 is the number of letters in the English and Interlingua alphabets.\n",
      "027 - 27 is the total number of letters in the Spanish alphabet (5 vowels and 22 consonants).\n",
      "028 - 28 is the number of days in the shortest month of the Gregorian calendar, February (except in leap years, when there are twenty-nine).\n",
      "029 - 29 is the number of letters in the Turkish,Finnish, Swedish,Faroese,Danish and Norwegianalphabets.\n",
      "030 - 30 is the number of hours of the longest kiss on record, by Dror Orpaz and Carmit Tsubara in 1999 at a kissing contest.\n",
      "031 - 31 is the number of musical triads (12 major, 12 minor, 4 diminished, and 3 augmented).\n",
      "032 - 32 is the freezing point of water at sea level in degrees Fahrenheit.\n",
      "033 - 33 is the temperature at which water boils according to the Newton scale.\n",
      "034 - 34 is the lucky number of Victor Pelevin's protagonist Stepan Mikhailov in the novel Numbers.\n",
      "035 - 35 is the minimum age of candidates for election to the United States Presidency.\n",
      "036 - 36 is the number of vehicles that run in each race of NASCAR's Camping World Truck Series.\n",
      "037 - 37 is the cost in cents of the Whopper Sandwich when Burger King first introduced it in 1957.\n",
      "038 - 38 is the number of minutes in the shortest war in history in which Zanzibar surrendered to England in 1896.\n",
      "039 - 39 is the traditional number of times citizens of Ancient Rome hit their slaves when beating them, referred to as \"Forty save one\".\n",
      "040 - 40 is the number of thieves in Ali Baba and the Forty Thieves and in Ali Shar and Zumurrud, from Thousand and One Nights.\n",
      "041 - 41 is the number of soldiers in The Expendables (2010 film) tactor Eric Roberts laments to his subordinates about having been killed by star Sylvester Stallone in his escape from their island.\n",
      "042 - 42 is the number of gallons that one barrel of petroleum holds.\n",
      "043 - 43 is the maximum number of cars participating in a NASCAR race in the Cup Series or Nationwide Series.\n",
      "044 - 44 is the percentage of kids who watch television before they go to sleep in the US.\n",
      "045 - 45 is the sapphire wedding anniversary in years of marriage.\n",
      "046 - 46 is the number of slices of pizza an average American kid eats in a year.\n",
      "047 - 47 is the number of phonemes in English phonology in Received Pronunciation.\n",
      "048 - 48 is the number of Ptolemaic constellations.\n",
      "049 - 49 is the number of days and night Siddhartha Gautama spent meditating as a holy man.\n",
      "050 - 50 is the traditional number of years in a jubilee period.\n",
      "051 - 51 is the atomic number of antimony.\n",
      "052 - 52 is the number of letters in the English alphabet, if majuscules are distinguished from minuscules.\n",
      "053 - 53 is the port number of UDP and TCP for the Domain Name System protocol.\n",
      "054 - 54 is the number of countries in Africa.\n",
      "055 - 55 is the number of Delegates who attended the United States Constitutional Convention in 1787.\n",
      "056 - 56 is the number of curls Shirley Temple, as a child, wore in her hair.\n",
      "057 - 57 is the number of cm that the smallest man measured, Gul Mohammed (1957-1997) of India.\n",
      "058 - 58 is the number of usable cells on a Hexxagon game board.\n",
      "059 - 59 is the number corresponding to the last minute in a given hour.\n",
      "060 - 60 is the number of seconds in a minute.\n",
      "061 - 61 is the number of points required to win a \"standard\" game of Cribbage.\n",
      "062 - 62 is the atomic number of samarium.\n",
      "063 - 63 is the atomic number of europium.\n",
      "064 - 64 is the number of classical arts listed in many Indian scriptures.\n",
      "065 - 65 is the traditional age for retirement in the United Kingdom, Germany and other countries.\n",
      "066 - 66 is the number of hot dogs eaten by World record holder Joey Chestnut in 15 minutes.\n",
      "067 - 67 is the highest two-digit odd number not presently designating any highway in the Interstate Highway System of the United States.\n",
      "068 - 68 is the ideal temperature (F) for developing black-and-white film.\n",
      "069 - 69 is the atomic number of thulium, a lanthanide.\n",
      "070 - 70 is the distance (meter) from archer to targets in Olympic Archery.\n",
      "071 - 71 is the atomic number of lutetium.\n",
      "072 - 72 is the number of episodes in the original airing of Futurama.\n",
      "073 - 73 is the favorite number of The Big Bang Theory's character Sheldon Cooper.\n",
      "074 - 74 is the atomic number of tungsten.\n",
      "075 - 75 is the age in years that the Saguaro Cactus, found in southwestern US, must be to grow branches.\n",
      "076 - 76 is the atomic number of osmium.\n",
      "077 - 77 is the atomic number of iridium.\n",
      "078 - 78 is the total number of gifts in the song The Twelve Days of Christmas.\n",
      "079 - 79 is the record for cumulative weeks at #1 on the Billboard charts, held by Elvis Presley.\n",
      "080 - 80 is the standard TCP/IP port number used for HTTP connections.\n",
      "081 - 81 is the number of squares on a shogi playing board.\n",
      "082 - 82 is the number of games in an NBA or NHL regular season.\n",
      "083 - 83 is the highest UHF channel on older televisions made before the late 1970s.\n",
      "084 - 84 is the atomic number of polonium.\n",
      "085 - 85 is the atomic number of astatine.\n",
      "086 - 86 is the device number for a lockout relay function in electrical circuit protection schemes.\n",
      "087 - 87 is the number of tools in the Wenger Swiss Army Knife version XXL, listed in the Guinness Book of World Records as the world's most multi-functional penknife.\n",
      "088 - 88 is the approximate number of days it takes Mercury to complete its orbit.\n",
      "089 - 89 is the atomic number of actinium.\n",
      "090 - 90 is the number of minutes in a football (soccer) match.\n",
      "091 - 91 is the amount of money one has if one has one coin of each U.S. denomination less than a dollar (penny, nickel, dime, quarter, half dollar) in cents.\n",
      "092 - 92 is the number of letters in the longest place name: Taumatawhakatangihangakoauauotamateaurehaeaturipukakapikimaungahoronukupokaiwhenuakitanatahu.\n",
      "093 - 93 is the atomic number of neptunium.\n",
      "094 - 94 is the length of an NBA court in feet.\n",
      "095 - 95 is the atomic number of americium.\n",
      "096 - 96 is the rating of Skyrim on metacritic.com.\n",
      "097 - 97 is the atomic number of berkelium.\n",
      "098 - 98 is the highest jersey number allowed in the National Hockey League (as 99 was retired by the entire league to honor Wayne Gretzky).\n",
      "099 - 99 is the highest jersey number allowed in most major league sports.\n"
     ]
    }
   ],
   "source": [
    "i=0\n",
    "for el in results:\n",
    "    print(\"{0:03}\".format(i) + \" - \" + results[el])\n",
    "    i = i+1"
   ]
  },
  {
   "cell_type": "markdown",
   "metadata": {},
   "source": [
    "## OMDB API"
   ]
  },
  {
   "cell_type": "markdown",
   "metadata": {},
   "source": [
    "**Tasks to complete:**  \n",
    "* Assemble URL using API key and search key word \"blade\" to get from OMDB database movies that have \"blade\" in their title.  \n",
    "\n",
    "* Iterate through the searched items and print the movie ID.  \n",
    "\n",
    "* Create a database on local to store movie information.  \n",
    "\n",
    "* Choose 10 movies to search for and insert into database the information of: title, year, genre, director, imdb_rating, rotten_tomatoes, metacritic, plot, box_office."
   ]
  },
  {
   "cell_type": "markdown",
   "metadata": {},
   "source": [
    "### (a) Assemble URL uisng API Key and search key words \"blade\"; Using GET requests to get the JSON response from OMDB database for movies that have \"blade\" in their title."
   ]
  },
  {
   "cell_type": "code",
   "execution_count": 6,
   "metadata": {},
   "outputs": [],
   "source": [
    "# apply for your own apikey on the OMDB API website. \n",
    "apikey = \"\"\n",
    "kw_search = \"blade\"\n",
    "URL = \"http://omdbapi.com/?apikey=\"+apikey+\"&s=\"+kw_search"
   ]
  },
  {
   "cell_type": "markdown",
   "metadata": {},
   "source": [
    "### (b) GET the JSON response from OMDB database and pretty-print it on the screen."
   ]
  },
  {
   "cell_type": "code",
   "execution_count": 11,
   "metadata": {
    "code_folding": []
   },
   "outputs": [],
   "source": [
    "# GET request response\n",
    "r = requests.get(URL, headers={'user-agent': 'Mozilla/5.0'})"
   ]
  },
  {
   "cell_type": "code",
   "execution_count": 9,
   "metadata": {
    "scrolled": true
   },
   "outputs": [
    {
     "name": "stdout",
     "output_type": "stream",
     "text": [
      "{\n",
      "    \"Response\": \"True\",\n",
      "    \"Search\": [\n",
      "        {\n",
      "            \"Poster\": \"https://m.media-amazon.com/images/M/MV5BNzQzMzJhZTEtOWM4NS00MTdhLTg0YjgtMjM4MDRkZjUwZDBlXkEyXkFqcGdeQXVyNjU0OTQ0OTY@._V1_SX300.jpg\",\n",
      "            \"Title\": \"Blade Runner\",\n",
      "            \"Type\": \"movie\",\n",
      "            \"Year\": \"1982\",\n",
      "            \"imdbID\": \"tt0083658\"\n",
      "        },\n",
      "        {\n",
      "            \"Poster\": \"https://m.media-amazon.com/images/M/MV5BNzA1Njg4NzYxOV5BMl5BanBnXkFtZTgwODk5NjU3MzI@._V1_SX300.jpg\",\n",
      "            \"Title\": \"Blade Runner 2049\",\n",
      "            \"Type\": \"movie\",\n",
      "            \"Year\": \"2017\",\n",
      "            \"imdbID\": \"tt1856101\"\n",
      "        },\n",
      "        {\n",
      "            \"Poster\": \"https://m.media-amazon.com/images/M/MV5BOTk2NDNjZWQtMGY0Mi00YTY2LWE5MzctMGRhZmNlYzljYTg5XkEyXkFqcGdeQXVyMTAyNjg4NjE0._V1_SX300.jpg\",\n",
      "            \"Title\": \"Blade\",\n",
      "            \"Type\": \"movie\",\n",
      "            \"Year\": \"1998\",\n",
      "            \"imdbID\": \"tt0120611\"\n",
      "        },\n",
      "        {\n",
      "            \"Poster\": \"https://m.media-amazon.com/images/M/MV5BOWVjZTIzNDYtNTBlNC00NTJjLTkzOTEtOTE0MjlhYzI2YTcyXkEyXkFqcGdeQXVyNTAyODkwOQ@@._V1_SX300.jpg\",\n",
      "            \"Title\": \"Blade II\",\n",
      "            \"Type\": \"movie\",\n",
      "            \"Year\": \"2002\",\n",
      "            \"imdbID\": \"tt0187738\"\n",
      "        },\n",
      "        {\n",
      "            \"Poster\": \"https://m.media-amazon.com/images/M/MV5BMjE0Nzg2MzI3MF5BMl5BanBnXkFtZTYwMjExODQ3._V1_SX300.jpg\",\n",
      "            \"Title\": \"Blade: Trinity\",\n",
      "            \"Type\": \"movie\",\n",
      "            \"Year\": \"2004\",\n",
      "            \"imdbID\": \"tt0359013\"\n",
      "        },\n",
      "        {\n",
      "            \"Poster\": \"https://m.media-amazon.com/images/M/MV5BNGY5NWIxMjAtODBjNC00MmZhLTk1ZTAtNGRhYThlOTNjMTQwXkEyXkFqcGdeQXVyNTc1NTQxODI@._V1_SX300.jpg\",\n",
      "            \"Title\": \"Sling Blade\",\n",
      "            \"Type\": \"movie\",\n",
      "            \"Year\": \"1996\",\n",
      "            \"imdbID\": \"tt0117666\"\n",
      "        },\n",
      "        {\n",
      "            \"Poster\": \"https://m.media-amazon.com/images/M/MV5BMTk0MjgxOTQ5MF5BMl5BanBnXkFtZTgwODA3NTUwNjE@._V1_SX300.jpg\",\n",
      "            \"Title\": \"Dragon Blade\",\n",
      "            \"Type\": \"movie\",\n",
      "            \"Year\": \"2015\",\n",
      "            \"imdbID\": \"tt3672840\"\n",
      "        },\n",
      "        {\n",
      "            \"Poster\": \"https://m.media-amazon.com/images/M/MV5BYzIwYmJlMjktMzJiMy00YmQzLThmNWYtNWY3NGViZjc4MzYwXkEyXkFqcGdeQXVyNDQxNjcxNQ@@._V1_SX300.jpg\",\n",
      "            \"Title\": \"Blade of the Immortal\",\n",
      "            \"Type\": \"movie\",\n",
      "            \"Year\": \"2017\",\n",
      "            \"imdbID\": \"tt5084170\"\n",
      "        },\n",
      "        {\n",
      "            \"Poster\": \"https://m.media-amazon.com/images/M/MV5BNjZhMTNmMTItNmU4Mi00YTdkLWFkZWUtOGExNTQ3MGRiYWYyXkEyXkFqcGdeQXVyNzI1NzMxNzM@._V1_SX300.jpg\",\n",
      "            \"Title\": \"Shinobi: Heart Under Blade\",\n",
      "            \"Type\": \"movie\",\n",
      "            \"Year\": \"2005\",\n",
      "            \"imdbID\": \"tt0475723\"\n",
      "        },\n",
      "        {\n",
      "            \"Poster\": \"https://m.media-amazon.com/images/M/MV5BZGNiNmNiMTctMDI4OS00OWYxLWE4ZWEtZjFkZjU4ZmY5YzEyXkEyXkFqcGdeQXVyMzgxODM4NjM@._V1_SX300.jpg\",\n",
      "            \"Title\": \"Blade Runner: Black Out 2022\",\n",
      "            \"Type\": \"movie\",\n",
      "            \"Year\": \"2017\",\n",
      "            \"imdbID\": \"tt7428594\"\n",
      "        }\n",
      "    ],\n",
      "    \"totalResults\": \"228\"\n",
      "}\n"
     ]
    }
   ],
   "source": [
    "## use the loads method to obtain a Python object from its JSON representation\n",
    "parsed = json.loads(r.text)\n",
    "## use the dumps method to convert an object into its JSON equivalent.\n",
    "print(json.dumps(parsed, indent=4, sort_keys=True))"
   ]
  },
  {
   "cell_type": "markdown",
   "metadata": {},
   "source": [
    "### (c) Iterate through the JSON object and print out the IMDB ID for each searched movie."
   ]
  },
  {
   "cell_type": "code",
   "execution_count": 5,
   "metadata": {},
   "outputs": [
    {
     "name": "stdout",
     "output_type": "stream",
     "text": [
      "tt0083658\n",
      "tt1856101\n",
      "tt0120611\n",
      "tt0187738\n",
      "tt0359013\n",
      "tt0117666\n",
      "tt3672840\n",
      "tt5084170\n",
      "tt0475723\n",
      "tt7428594\n"
     ]
    }
   ],
   "source": [
    "for i in range(0,len(parsed['Search'])):\n",
    "    print(parsed['Search'][i]['imdbID'])"
   ]
  },
  {
   "cell_type": "markdown",
   "metadata": {},
   "source": [
    "### (d) Create database and table with proper data types."
   ]
  },
  {
   "cell_type": "markdown",
   "metadata": {},
   "source": [
    "(i) connects to your local SQL instance,  \n",
    "(ii) creates a database named \"ucdavis\",  \n",
    "(iii) creates the table \"omdb_test\" containing the columns \"imdb_id\", \"title\", and \"year\". \n",
    "\n",
    "\"imdb_id\" can be stored as string as it is a combination of letters and numbers.  \n",
    "\"title\" will be stored as a string for each movie.  \n",
    "\"year\" will be stored as a DateTime for each movie.  "
   ]
  },
  {
   "cell_type": "code",
   "execution_count": null,
   "metadata": {},
   "outputs": [],
   "source": [
    "pw = \"\" # a dynamic password for users to enter\n",
    "\n",
    "conn = pymysql.connect(host='localhost', user = 'root', password = pw)\n",
    "cursor = conn.cursor()\n",
    "# Create database\n",
    "SQL_DB = \"OMDB\"\n",
    "cursor.execute('DROP DATABASE IF EXISTS '+SQL_DB)\n",
    "query_DB = \"CREATE DATABASE IF NOT EXISTS \" + SQL_DB + \";\"\n",
    "cursor.execute(query_DB)"
   ]
  },
  {
   "cell_type": "code",
   "execution_count": null,
   "metadata": {},
   "outputs": [],
   "source": [
    "# Create omdb table with listed columns.\n",
    "conn = pymysql.connect(host='localhost', user = 'root', password = pw, database=SQL_DB)\n",
    "cursor = conn.cursor()\n",
    "cursor.execute('DROP TABLE IF EXISTS %s' % ('omdb'))\n",
    "sql = '''CREATE TABLE IF NOT EXISTS omdb\n",
    "      (id INT AUTO_INCREMENT PRIMARY KEY,\n",
    "       Title VARCHAR(255),\n",
    "       Year YEAR(4),\n",
    "       Genre VARCHAR(255),\n",
    "       Director VARCHAR(255),\n",
    "       IMDB_Rating INT(11),\n",
    "       Rotten_Tomatoes INT(11),\n",
    "       Metascore INT(11),\n",
    "       Plot VARCHAR(255),\n",
    "       BoxOffice VARCHAR(255));\n",
    "      '''\n",
    "cursor.execute(sql)\n",
    "cursor.close()\n",
    "conn.close()"
   ]
  },
  {
   "cell_type": "markdown",
   "metadata": {},
   "source": [
    "### (e) Search and print 10 movie titles and their imdbIDs to the screen. "
   ]
  },
  {
   "cell_type": "code",
   "execution_count": 9,
   "metadata": {},
   "outputs": [
    {
     "name": "stdout",
     "output_type": "stream",
     "text": [
      "The Shawshank Redemption, imbdID: tt0111161\n",
      "Joker, imbdID: tt7286456\n",
      "Inception, imbdID: tt1375666\n",
      "Avatar, imbdID: tt0499549\n",
      "The Dark Knight, imbdID: tt0468569\n",
      "Interstellar, imbdID: tt0816692\n",
      "The Silence of the Lambs, imbdID: tt0102926\n",
      "Avengers: Endgame, imbdID: tt4154796\n",
      "The Usual Suspects, imbdID: tt0114814\n",
      "The Legend of 1900, imbdID: tt0120731\n"
     ]
    }
   ],
   "source": [
    "# Look up for my 10 movie choices.\n",
    "top10 = [\"The Shawshank Redemption\", \"Joker\", \"Inception\", \"Avatar\", \n",
    "         \"The Dark Knight\", \"Interstellar\", \"The Silence of the Lambs\",\n",
    "         \"Avengers: Endgame\", \"The Usual Suspects\", \"The Legend of 1900\"]\n",
    "top10_id = []\n",
    "\n",
    "for movie in top10:\n",
    "    url_temp = \"http://omdbapi.com/?apikey=\" + apikey + \"&t=\" + movie\n",
    "    response = requests.get(url_temp, headers={'user-agent': 'Mozilla/5.0'})\n",
    "    parsed_temp = json.loads(response.text)\n",
    "    top10_id.append(parsed_temp['imdbID'])\n",
    "    print(movie + \", imbdID: \" + parsed_temp['imdbID'])"
   ]
  },
  {
   "cell_type": "markdown",
   "metadata": {},
   "source": [
    "### (f) Look up the movie details using the imdbIDs and print out the result to the screen. "
   ]
  },
  {
   "cell_type": "code",
   "execution_count": 10,
   "metadata": {},
   "outputs": [
    {
     "name": "stdout",
     "output_type": "stream",
     "text": [
      "imdbID: tt0111161, Title: The Shawshank Redemption\n",
      "imdbID: tt7286456, Title: Joker\n",
      "imdbID: tt1375666, Title: Inception\n",
      "imdbID: tt0499549, Title: Avatar\n",
      "imdbID: tt0468569, Title: The Dark Knight\n",
      "imdbID: tt0816692, Title: Interstellar\n",
      "imdbID: tt0102926, Title: The Silence of the Lambs\n",
      "imdbID: tt4154796, Title: Avengers: Endgame\n",
      "imdbID: tt0114814, Title: The Usual Suspects\n",
      "imdbID: tt0120731, Title: The Legend of 1900\n"
     ]
    }
   ],
   "source": [
    "# Look up the movie details using the previously obtained imdbIDs.\n",
    "for movie_id in top10_id:\n",
    "    url_id = \"http://omdbapi.com/?apikey=\" + apikey + \"&i=\" + movie_id\n",
    "    r_id = requests.get(url_id, headers={'user-agent': 'Mozilla/5.0'})\n",
    "    parsed_id = json.loads(r_id.text)\n",
    "    print(\"imdbID: \" + movie_id + \", Title: \" + parsed_id['Title'])"
   ]
  },
  {
   "cell_type": "markdown",
   "metadata": {},
   "source": [
    "### (g) Insert the following information of the 10 movie titles into the SQL table: title, year, genre, director, imdb_rating, rotten_tomatoes, metacritic, plot, box_office."
   ]
  },
  {
   "cell_type": "code",
   "execution_count": 12,
   "metadata": {},
   "outputs": [
    {
     "name": "stdout",
     "output_type": "stream",
     "text": [
      "Inserted: The Shawshank Redemption\n",
      "Inserted: Joker\n",
      "Inserted: Inception\n",
      "Inserted: Avatar\n",
      "Inserted: The Dark Knight\n",
      "Inserted: Interstellar\n",
      "Inserted: The Silence of the Lambs\n",
      "Inserted: Avengers: Endgame\n",
      "Inserted: The Usual Suspects\n",
      "Inserted: The Legend of 1900\n"
     ]
    }
   ],
   "source": [
    "# Insert movie details into omdb table\n",
    "conn = pymysql.connect(host='localhost', user = 'root', password = pw, database=SQL_DB)\n",
    "cursor = conn.cursor()\n",
    "\n",
    "for movie_id in top10_id:\n",
    "    # Get JSON response for each movie and set up the dictionary ready to be inserted.\n",
    "    url_id = \"http://omdbapi.com/?apikey=\" + apikey + \"&i=\" + movie_id\n",
    "    r_id = requests.get(url_id, headers={'user-agent': 'Mozilla/5.0'})\n",
    "    parsed_id = json.loads(r_id.text)\n",
    "    \n",
    "    # Raw data to be inserted\n",
    "    title = parsed_id['Title']\n",
    "    year = int(parsed_id['Year'])\n",
    "    genre = parsed_id['Genre']\n",
    "    director = parsed_id['Director']\n",
    "    imdb_rating = float(parsed_id['imdbRating'])*10\n",
    "    rotten_tomatoes = None if (parsed_id['Ratings'][1]['Value']=='N/A') else int(parsed_id['Ratings'][1]['Value'].replace('%',''))\n",
    "    metascore = None if (parsed_id['Metascore']=='N/A') else int(parsed_id['Metascore'])\n",
    "    plot = parsed_id['Plot']\n",
    "    box_office = None if (parsed_id['BoxOffice']=='N/A') else parsed_id['BoxOffice']\n",
    "                        \n",
    "    # Setup the SQL query\n",
    "    sql = \"INSERT INTO omdb\"+(\"(Title, Year, Genre, Director, IMDB_Rating, \"\n",
    "                              \"Rotten_Tomatoes, Metascore, Plot, BoxOffice)\"\n",
    "                              \" VALUES (%s, %s, %s, %s, %s, %s, %s, %s, %s)\")\n",
    "    values = (title, year, genre, director, imdb_rating, rotten_tomatoes, metascore, plot, box_office)\n",
    "    \n",
    "    # Execute the query\n",
    "    cursor.execute(sql, values)\n",
    "    conn.commit()\n",
    "    print(\"Inserted: \"+parsed_id['Title'])\n",
    "    \n",
    "cursor.close()\n",
    "conn.close()"
   ]
  }
 ],
 "metadata": {
  "hide_input": false,
  "kernelspec": {
   "display_name": "Python 3",
   "language": "python",
   "name": "python3"
  },
  "language_info": {
   "codemirror_mode": {
    "name": "ipython",
    "version": 3
   },
   "file_extension": ".py",
   "mimetype": "text/x-python",
   "name": "python",
   "nbconvert_exporter": "python",
   "pygments_lexer": "ipython3",
   "version": "3.7.6"
  },
  "toc": {
   "base_numbering": 1,
   "nav_menu": {},
   "number_sections": false,
   "sideBar": true,
   "skip_h1_title": false,
   "title_cell": "Table of Contents",
   "title_sidebar": "Contents",
   "toc_cell": false,
   "toc_position": {
    "height": "calc(100% - 180px)",
    "left": "10px",
    "top": "150px",
    "width": "213.59375px"
   },
   "toc_section_display": true,
   "toc_window_display": true
  },
  "varInspector": {
   "cols": {
    "lenName": 16,
    "lenType": 16,
    "lenVar": 40
   },
   "kernels_config": {
    "python": {
     "delete_cmd_postfix": "",
     "delete_cmd_prefix": "del ",
     "library": "var_list.py",
     "varRefreshCmd": "print(var_dic_list())"
    },
    "r": {
     "delete_cmd_postfix": ") ",
     "delete_cmd_prefix": "rm(",
     "library": "var_list.r",
     "varRefreshCmd": "cat(var_dic_list()) "
    }
   },
   "types_to_exclude": [
    "module",
    "function",
    "builtin_function_or_method",
    "instance",
    "_Feature"
   ],
   "window_display": false
  }
 },
 "nbformat": 4,
 "nbformat_minor": 2
}
